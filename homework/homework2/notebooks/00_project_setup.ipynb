{
 "cells": [
  {
   "cell_type": "code",
   "execution_count": 1,
   "id": "43443785-c5de-4756-b59e-0a8ebab8780c",
   "metadata": {},
   "outputs": [
    {
     "name": "stdout",
     "output_type": "stream",
     "text": [
      "API_KEY exists: True\n"
     ]
    },
    {
     "data": {
      "text/plain": [
       "array([[0.57966249, 0.37959132],\n",
       "       [0.95500187, 0.83237055]])"
      ]
     },
     "execution_count": 1,
     "metadata": {},
     "output_type": "execute_result"
    }
   ],
   "source": [
    "from dotenv import load_dotenv\n",
    "import os\n",
    "import numpy as np\n",
    "\n",
    "load_dotenv()\n",
    "print(\"API_KEY exists:\", os.getenv(\"API_KEY\") is not None)\n",
    "np.random.rand(2, 2)  # Test NumPy"
   ]
  },
  {
   "cell_type": "code",
   "execution_count": null,
   "id": "45dcd1e7-8145-4f6c-9f64-fb33af95a145",
   "metadata": {},
   "outputs": [],
   "source": []
  }
 ],
 "metadata": {
  "kernelspec": {
   "display_name": "Python 3 (ipykernel)",
   "language": "python",
   "name": "python3"
  },
  "language_info": {
   "codemirror_mode": {
    "name": "ipython",
    "version": 3
   },
   "file_extension": ".py",
   "mimetype": "text/x-python",
   "name": "python",
   "nbconvert_exporter": "python",
   "pygments_lexer": "ipython3",
   "version": "3.10.18"
  }
 },
 "nbformat": 4,
 "nbformat_minor": 5
}
