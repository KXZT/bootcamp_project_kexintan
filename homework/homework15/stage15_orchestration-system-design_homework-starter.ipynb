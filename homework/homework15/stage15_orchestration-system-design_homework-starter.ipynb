{
 "cells": [
  {
   "cell_type": "markdown",
   "id": "88a12d72",
   "metadata": {},
   "source": [
    "# Homework Starter — Stage 15: Orchestration & System Design\n",
    "Complete the sections below. Keep your answers concise and focused on orchestration readiness."
   ]
  },
  {
   "cell_type": "markdown",
   "id": "cd6b69fb",
   "metadata": {},
   "source": [
    "## 1) Project Task Decomposition\n",
    "List 4–8 tasks. Add more rows as needed."
   ]
  },
  {
   "cell_type": "code",
   "execution_count": 1,
   "id": "f0e0a8c4",
   "metadata": {},
   "outputs": [
    {
     "data": {
      "text/html": [
       "<div>\n",
       "<style scoped>\n",
       "    .dataframe tbody tr th:only-of-type {\n",
       "        vertical-align: middle;\n",
       "    }\n",
       "\n",
       "    .dataframe tbody tr th {\n",
       "        vertical-align: top;\n",
       "    }\n",
       "\n",
       "    .dataframe thead th {\n",
       "        text-align: right;\n",
       "    }\n",
       "</style>\n",
       "<table border=\"1\" class=\"dataframe\">\n",
       "  <thead>\n",
       "    <tr style=\"text-align: right;\">\n",
       "      <th></th>\n",
       "      <th>task</th>\n",
       "      <th>inputs</th>\n",
       "      <th>outputs</th>\n",
       "      <th>idempotent</th>\n",
       "    </tr>\n",
       "  </thead>\n",
       "  <tbody>\n",
       "    <tr>\n",
       "      <th>0</th>\n",
       "      <td>ingest</td>\n",
       "      <td>/data/raw.ext</td>\n",
       "      <td>prices_raw.json</td>\n",
       "      <td>True</td>\n",
       "    </tr>\n",
       "    <tr>\n",
       "      <th>1</th>\n",
       "      <td>clean</td>\n",
       "      <td>prices_raw.json</td>\n",
       "      <td>prices_clean.json</td>\n",
       "      <td>True</td>\n",
       "    </tr>\n",
       "    <tr>\n",
       "      <th>2</th>\n",
       "      <td>train_or_score</td>\n",
       "      <td>prices_clean.json</td>\n",
       "      <td>model.json</td>\n",
       "      <td>True</td>\n",
       "    </tr>\n",
       "    <tr>\n",
       "      <th>3</th>\n",
       "      <td>report</td>\n",
       "      <td>model.json</td>\n",
       "      <td>report.txt</td>\n",
       "      <td>True</td>\n",
       "    </tr>\n",
       "  </tbody>\n",
       "</table>\n",
       "</div>"
      ],
      "text/plain": [
       "             task             inputs            outputs  idempotent\n",
       "0          ingest      /data/raw.ext    prices_raw.json        True\n",
       "1           clean    prices_raw.json  prices_clean.json        True\n",
       "2  train_or_score  prices_clean.json         model.json        True\n",
       "3          report         model.json         report.txt        True"
      ]
     },
     "execution_count": 1,
     "metadata": {},
     "output_type": "execute_result"
    }
   ],
   "source": [
    "from pathlib import Path\n",
    "import pandas as pd\n",
    "tasks = pd.DataFrame({\n",
    "    'task': ['ingest', 'clean', 'train_or_score', 'report'],\n",
    "    'inputs': ['/data/raw.ext', 'prices_raw.json', 'prices_clean.json', 'model.json'],\n",
    "    'outputs': ['prices_raw.json', 'prices_clean.json', 'model.json', 'report.txt'],\n",
    "    'idempotent': [True, True, True, True]\n",
    "})\n",
    "tasks"
   ]
  },
  {
   "cell_type": "markdown",
   "id": "34500230",
   "metadata": {},
   "source": [
    "## 2) Dependencies (DAG)\n",
    "Describe dependencies and paste a small diagram if you have one."
   ]
  },
  {
   "cell_type": "code",
   "execution_count": 2,
   "id": "70b87696",
   "metadata": {},
   "outputs": [
    {
     "data": {
      "text/plain": [
       "{'ingest': [],\n",
       " 'clean': ['ingest'],\n",
       " 'train_or_score': ['clean'],\n",
       " 'report': ['train_or_score']}"
      ]
     },
     "execution_count": 2,
     "metadata": {},
     "output_type": "execute_result"
    }
   ],
   "source": [
    "dag = {\n",
    "    'ingest': [],\n",
    "    'clean': ['ingest'],\n",
    "    'train_or_score': ['clean'],\n",
    "    'report': ['train_or_score']\n",
    "}\n",
    "dag"
   ]
  },
  {
   "cell_type": "markdown",
   "id": "a8917b2f",
   "metadata": {},
   "source": [
    "## 3) Logging & Checkpoints Plan\n",
    "Specify what you will log and where you will checkpoint for each task."
   ]
  },
  {
   "cell_type": "code",
   "execution_count": 3,
   "id": "51294f6e",
   "metadata": {},
   "outputs": [
    {
     "data": {
      "text/html": [
       "<div>\n",
       "<style scoped>\n",
       "    .dataframe tbody tr th:only-of-type {\n",
       "        vertical-align: middle;\n",
       "    }\n",
       "\n",
       "    .dataframe tbody tr th {\n",
       "        vertical-align: top;\n",
       "    }\n",
       "\n",
       "    .dataframe thead th {\n",
       "        text-align: right;\n",
       "    }\n",
       "</style>\n",
       "<table border=\"1\" class=\"dataframe\">\n",
       "  <thead>\n",
       "    <tr style=\"text-align: right;\">\n",
       "      <th></th>\n",
       "      <th>task</th>\n",
       "      <th>log_messages</th>\n",
       "      <th>checkpoint_artifact</th>\n",
       "    </tr>\n",
       "  </thead>\n",
       "  <tbody>\n",
       "    <tr>\n",
       "      <th>0</th>\n",
       "      <td>ingest</td>\n",
       "      <td>start/end, rows, source URI</td>\n",
       "      <td>prices_raw.json</td>\n",
       "    </tr>\n",
       "    <tr>\n",
       "      <th>1</th>\n",
       "      <td>clean</td>\n",
       "      <td>start/end, rows in/out</td>\n",
       "      <td>prices_clean.json</td>\n",
       "    </tr>\n",
       "    <tr>\n",
       "      <th>2</th>\n",
       "      <td>train_or_score</td>\n",
       "      <td>params, metrics</td>\n",
       "      <td>model.json</td>\n",
       "    </tr>\n",
       "    <tr>\n",
       "      <th>3</th>\n",
       "      <td>report</td>\n",
       "      <td>artifact path</td>\n",
       "      <td>report.txt</td>\n",
       "    </tr>\n",
       "  </tbody>\n",
       "</table>\n",
       "</div>"
      ],
      "text/plain": [
       "             task                 log_messages checkpoint_artifact\n",
       "0          ingest  start/end, rows, source URI     prices_raw.json\n",
       "1           clean       start/end, rows in/out   prices_clean.json\n",
       "2  train_or_score              params, metrics          model.json\n",
       "3          report                artifact path          report.txt"
      ]
     },
     "execution_count": 3,
     "metadata": {},
     "output_type": "execute_result"
    }
   ],
   "source": [
    "logging_plan = pd.DataFrame({\n",
    "    'task': ['ingest', 'clean', 'train_or_score', 'report'],\n",
    "    'log_messages': [\n",
    "        'start/end, rows, source URI',\n",
    "        'start/end, rows in/out',\n",
    "        'params, metrics',\n",
    "        'artifact path'\n",
    "    ],\n",
    "    'checkpoint_artifact': [\n",
    "        'prices_raw.json',\n",
    "        'prices_clean.json',\n",
    "        'model.json',\n",
    "        'report.txt'\n",
    "    ]\n",
    "})\n",
    "logging_plan"
   ]
  },
  {
   "cell_type": "markdown",
   "id": "b0ad99a3",
   "metadata": {},
   "source": [
    "## 4) Right-Sizing Automation\n",
    "Which parts will you automate now? Which stay manual? Why?\n",
    "\n",
    "I will automate Ingest, Clean, Train/Score. These tasks are repetitive, rule-based, and prone to human error. Automating them ensures consistency, saves time, and allows for easy reruns if data changes.\n",
    "\n",
    "Report stay manual. The final report requires human interpretation, narrative building, and stakeholder communication. Automating this could lead to a loss of nuance and context, making it less valuable for decision-making.\n"
   ]
  },
  {
   "cell_type": "markdown",
   "id": "0ae95080",
   "metadata": {},
   "source": [
    "*(Write your rationale here.)*"
   ]
  },
  {
   "cell_type": "markdown",
   "id": "7cef999c",
   "metadata": {},
   "source": [
    "## 5) (Stretch) Refactor One Task into a Function + CLI\n",
    "Use the templates below."
   ]
  },
  {
   "cell_type": "code",
   "execution_count": 4,
   "id": "98b2effb",
   "metadata": {},
   "outputs": [
    {
     "ename": "SyntaxError",
     "evalue": "unterminated string literal (detected at line 21) (2056391923.py, line 21)",
     "output_type": "error",
     "traceback": [
      "\u001b[1;36m  Cell \u001b[1;32mIn[4], line 21\u001b[1;36m\u001b[0m\n\u001b[1;33m    if **name** == '**main**'':\u001b[0m\n\u001b[1;37m                             ^\u001b[0m\n\u001b[1;31mSyntaxError\u001b[0m\u001b[1;31m:\u001b[0m unterminated string literal (detected at line 21)\n"
     ]
    }
   ],
   "source": [
    "import argparse, json, logging, sys\n",
    "from datetime import datetime\n",
    "\n",
    "def my_task(input_path: str, output_path: str) -> None:\n",
    "    '''Example task template: read → transform → write JSON.'''\n",
    "    logging.info('[my_task] start')\n",
    "    # TODO: implement your logic\n",
    "    result = {'run_at': datetime.utcnow().isoformat(), 'note': 'replace with real output'}\n",
    "    Path(output_path).parent.mkdir(parents=True, exist_ok=True)\n",
    "    Path(output_path).write_text(json.dumps(result, indent=2))\n",
    "    logging.info('[my_task] wrote %s', output_path)\n",
    "\n",
    "def main(argv=None):\n",
    "    parser = argparse.ArgumentParser(description='Homework task wrapper')\n",
    "    parser.add_argument('--input', required=True)\n",
    "    parser.add_argument('--output', required=True)\n",
    "    args = parser.parse_args(argv)\n",
    "    logging.basicConfig(level=logging.INFO, handlers=[logging.StreamHandler(sys.stdout)])\n",
    "    my_task(args.input, args.output)\n",
    "\n",
    "if **name** == '**main**'':\n",
    "    # Example simulated CLI in notebook:\n",
    "    main(['--input', 'data/in.ext', '--output', 'data/out.json'])"
   ]
  },
  {
   "cell_type": "markdown",
   "id": "558c070f",
   "metadata": {},
   "source": [
    "### Optional: Simple Retry Wrapper (fill in)\n",
    "Add a small retry with linear backoff to harden a task."
   ]
  },
  {
   "cell_type": "code",
   "execution_count": null,
   "id": "a34c1d7e",
   "metadata": {},
   "outputs": [],
   "source": [
    "import time\n",
    "def retry(n_tries=3, delay=0.2):\n",
    "    def wrapper(fn, *args, **kwargs):\n",
    "        # TODO: implement try/except loop with sleep backoff\n",
    "        return fn(*args, **kwargs)\n",
    "    return wrapper"
   ]
  }
 ],
 "metadata": {
  "kernelspec": {
   "display_name": "Python 3 (ipykernel)",
   "language": "python",
   "name": "python3"
  },
  "language_info": {
   "codemirror_mode": {
    "name": "ipython",
    "version": 3
   },
   "file_extension": ".py",
   "mimetype": "text/x-python",
   "name": "python",
   "nbconvert_exporter": "python",
   "pygments_lexer": "ipython3",
   "version": "3.10.18"
  }
 },
 "nbformat": 4,
 "nbformat_minor": 5
}
