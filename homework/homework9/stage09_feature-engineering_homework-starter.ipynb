{
 "cells": [
  {
   "cell_type": "markdown",
   "id": "d714e5ae",
   "metadata": {},
   "source": [
    "# Stage 09 — Homework Starter Notebook\n",
    "\n",
    "In the lecture, we learned how to create engineered features. Now it’s your turn to apply those ideas to your own project data."
   ]
  },
  {
   "cell_type": "code",
   "execution_count": 2,
   "id": "5af2928d",
   "metadata": {},
   "outputs": [
    {
     "data": {
      "text/html": [
       "<div>\n",
       "<style scoped>\n",
       "    .dataframe tbody tr th:only-of-type {\n",
       "        vertical-align: middle;\n",
       "    }\n",
       "\n",
       "    .dataframe tbody tr th {\n",
       "        vertical-align: top;\n",
       "    }\n",
       "\n",
       "    .dataframe thead th {\n",
       "        text-align: right;\n",
       "    }\n",
       "</style>\n",
       "<table border=\"1\" class=\"dataframe\">\n",
       "  <thead>\n",
       "    <tr style=\"text-align: right;\">\n",
       "      <th></th>\n",
       "      <th>application_date</th>\n",
       "      <th>business_age</th>\n",
       "      <th>annual_revenue</th>\n",
       "      <th>credit_score</th>\n",
       "      <th>loan_amount</th>\n",
       "      <th>existing_debt</th>\n",
       "      <th>default</th>\n",
       "      <th>industry</th>\n",
       "    </tr>\n",
       "  </thead>\n",
       "  <tbody>\n",
       "    <tr>\n",
       "      <th>0</th>\n",
       "      <td>1/1/2021</td>\n",
       "      <td>4.0</td>\n",
       "      <td>377206</td>\n",
       "      <td>819.0</td>\n",
       "      <td>381072</td>\n",
       "      <td>202043</td>\n",
       "      <td>1</td>\n",
       "      <td>Retail</td>\n",
       "    </tr>\n",
       "    <tr>\n",
       "      <th>1</th>\n",
       "      <td>1/2/2021</td>\n",
       "      <td>18.0</td>\n",
       "      <td>1725124</td>\n",
       "      <td>727.0</td>\n",
       "      <td>195609</td>\n",
       "      <td>223420</td>\n",
       "      <td>0</td>\n",
       "      <td>Retail</td>\n",
       "    </tr>\n",
       "    <tr>\n",
       "      <th>2</th>\n",
       "      <td>1/3/2021</td>\n",
       "      <td>10.0</td>\n",
       "      <td>1145110</td>\n",
       "      <td>612.0</td>\n",
       "      <td>106774</td>\n",
       "      <td>51358</td>\n",
       "      <td>1</td>\n",
       "      <td>Retail</td>\n",
       "    </tr>\n",
       "    <tr>\n",
       "      <th>3</th>\n",
       "      <td>1/4/2021</td>\n",
       "      <td>6.0</td>\n",
       "      <td>429298</td>\n",
       "      <td>735.0</td>\n",
       "      <td>180450</td>\n",
       "      <td>68868</td>\n",
       "      <td>0</td>\n",
       "      <td>Manufacturing</td>\n",
       "    </tr>\n",
       "    <tr>\n",
       "      <th>4</th>\n",
       "      <td>1/5/2021</td>\n",
       "      <td>9.0</td>\n",
       "      <td>471050</td>\n",
       "      <td>720.0</td>\n",
       "      <td>359451</td>\n",
       "      <td>55203</td>\n",
       "      <td>0</td>\n",
       "      <td>Other</td>\n",
       "    </tr>\n",
       "  </tbody>\n",
       "</table>\n",
       "</div>"
      ],
      "text/plain": [
       "  application_date  business_age  annual_revenue  credit_score  loan_amount  \\\n",
       "0         1/1/2021           4.0          377206         819.0       381072   \n",
       "1         1/2/2021          18.0         1725124         727.0       195609   \n",
       "2         1/3/2021          10.0         1145110         612.0       106774   \n",
       "3         1/4/2021           6.0          429298         735.0       180450   \n",
       "4         1/5/2021           9.0          471050         720.0       359451   \n",
       "\n",
       "   existing_debt  default       industry  \n",
       "0         202043        1         Retail  \n",
       "1         223420        0         Retail  \n",
       "2          51358        1         Retail  \n",
       "3          68868        0  Manufacturing  \n",
       "4          55203        0          Other  "
      ]
     },
     "execution_count": 2,
     "metadata": {},
     "output_type": "execute_result"
    }
   ],
   "source": [
    "import pandas as pd\n",
    "import numpy as np\n",
    "\n",
    "# Example synthetic data (replace with your project dataset)\n",
    "df = pd.read_csv('small_business_loans.csv')\n",
    "df.head()"
   ]
  },
  {
   "cell_type": "markdown",
   "id": "a6ea50d4",
   "metadata": {},
   "source": [
    "## TODO: Implement at least 2 engineered features here"
   ]
  },
  {
   "cell_type": "code",
   "execution_count": 3,
   "id": "a5ed1fcb",
   "metadata": {},
   "outputs": [],
   "source": [
    "# Example template:\n",
    "df['debt_to_income_ratio'] = df['existing_debt'] / df['annual_revenue']"
   ]
  },
  {
   "cell_type": "markdown",
   "id": "d0c5267b",
   "metadata": {},
   "source": [
    "### Rationale for Feature 1\n",
    "the debt_to_income ratio measures the percentage of a business's income that is already obligated to paying down existing debt. A high ratio may indicate the business is already highly leveraged. Adding a new loan payment could make them default more likely."
   ]
  },
  {
   "cell_type": "code",
   "execution_count": 4,
   "id": "68e66616",
   "metadata": {},
   "outputs": [],
   "source": [
    "# TODO: Add another feature\n",
    "df['loan_to_income_ratio'] = df['loan_amount'] / df['annual_revenue']"
   ]
  },
  {
   "cell_type": "markdown",
   "id": "ea89a599",
   "metadata": {},
   "source": [
    "### Rationale for Feature 2\n",
    "The loan to income ratio measure the size of requested loan relative to the business income. A high ratio means the business is asking for a loan larger than its entire annual income. And it could be really risky for the business to default."
   ]
  },
  {
   "cell_type": "code",
   "execution_count": null,
   "id": "bcb75eb3-e4fa-4504-bf8e-e13234c10ea3",
   "metadata": {},
   "outputs": [],
   "source": []
  }
 ],
 "metadata": {
  "kernelspec": {
   "display_name": "Python 3 (ipykernel)",
   "language": "python",
   "name": "python3"
  },
  "language_info": {
   "codemirror_mode": {
    "name": "ipython",
    "version": 3
   },
   "file_extension": ".py",
   "mimetype": "text/x-python",
   "name": "python",
   "nbconvert_exporter": "python",
   "pygments_lexer": "ipython3",
   "version": "3.10.18"
  }
 },
 "nbformat": 4,
 "nbformat_minor": 5
}
