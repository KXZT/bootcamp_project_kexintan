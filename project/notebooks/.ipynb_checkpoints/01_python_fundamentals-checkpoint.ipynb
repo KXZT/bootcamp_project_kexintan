{
 "cells": [
  {
   "cell_type": "code",
   "execution_count": 1,
   "id": "b4e6399b-a53a-49df-9fbb-c632c8ac3dd7",
   "metadata": {},
   "outputs": [],
   "source": [
    "import pandas as pd\n",
    "import numpy as np\n",
    "import matplotlib.pyplot as plt\n",
    "import seaborn as sns\n",
    "import sys\n",
    "sys.path.append('../src')\n",
    "from utils import load_data, summarize_data"
   ]
  },
  {
   "cell_type": "code",
   "execution_count": 2,
   "id": "502f0a77-e5e2-47ac-b8b1-9de8dcb2573d",
   "metadata": {},
   "outputs": [
    {
     "name": "stdout",
     "output_type": "stream",
     "text": [
      "Successfully loaded data with 181 rows and 7 columns\n",
      "=== DATA SUMMARY ===\n",
      "Shape: (181, 7)\n",
      "\n",
      "=== COLUMN TYPES ===\n",
      "date                    object\n",
      "day_of_week             object\n",
      "is_weekend               int64\n",
      "is_holiday                bool\n",
      "average_temperature      int64\n",
      "marketing_spend        float64\n",
      "revenue                float64\n",
      "dtype: object\n",
      "\n",
      "=== MISSING VALUES ===\n",
      "date                   0\n",
      "day_of_week            0\n",
      "is_weekend             0\n",
      "is_holiday             0\n",
      "average_temperature    0\n",
      "marketing_spend        0\n",
      "revenue                0\n",
      "dtype: int64\n",
      "\n",
      "=== BASIC STATISTICS ===\n",
      "       is_weekend  average_temperature  marketing_spend      revenue\n",
      "count  181.000000           181.000000       181.000000   181.000000\n",
      "mean     0.281768            64.270718        28.607901   966.302707\n",
      "std      0.451109             9.524744        37.206295   565.069606\n",
      "min      0.000000            38.000000         1.500000   527.040000\n",
      "25%      0.000000            58.000000        11.910000   706.190000\n",
      "50%      0.000000            65.000000        21.150000   840.990000\n",
      "75%      1.000000            70.000000        33.350000  1062.800000\n",
      "max      1.000000            92.000000       437.990000  7153.930000\n"
     ]
    }
   ],
   "source": [
    "df = load_data()\n",
    "summarize_data(df)"
   ]
  },
  {
   "cell_type": "code",
   "execution_count": 3,
   "id": "cb7c42cd-d1c7-4d6d-a2ec-fa75dbdee6b0",
   "metadata": {},
   "outputs": [
    {
     "name": "stdout",
     "output_type": "stream",
     "text": [
      "\n",
      "=== FIRST 5 ROWS ===\n",
      "         date day_of_week  is_weekend  is_holiday  average_temperature  \\\n",
      "0  2023-01-01      Sunday           1       False                   69   \n",
      "1  2023-01-02      Monday           0       False                   63   \n",
      "2  2023-01-03     Tuesday           0       False                   71   \n",
      "3  2023-01-04   Wednesday           0       False                   80   \n",
      "4  2023-01-05    Thursday           0       False                   62   \n",
      "\n",
      "   marketing_spend  revenue  \n",
      "0            10.12   808.36  \n",
      "1             8.53   642.04  \n",
      "2            29.55   995.76  \n",
      "3            16.80   776.94  \n",
      "4            35.56  1035.60  \n"
     ]
    }
   ],
   "source": [
    "print(\"\\n=== FIRST 5 ROWS ===\")\n",
    "print(df.head())"
   ]
  },
  {
   "cell_type": "code",
   "execution_count": 4,
   "id": "5face8ed-3a90-4b1c-9f7c-3ef0039a52f5",
   "metadata": {},
   "outputs": [
    {
     "name": "stdout",
     "output_type": "stream",
     "text": [
      "\n",
      "=== WEEKEND VS WEEKDAY REVENUE ===\n",
      "is_weekend\n",
      "0     903.877692\n",
      "1    1125.425294\n",
      "Name: revenue, dtype: float64\n"
     ]
    }
   ],
   "source": [
    "print(\"\\n=== WEEKEND VS WEEKDAY REVENUE ===\")\n",
    "weekend_revenue = df.groupby('is_weekend')['revenue'].mean()\n",
    "print(weekend_revenue)\n"
   ]
  },
  {
   "cell_type": "code",
   "execution_count": 5,
   "id": "149fbda6-5966-4ed3-9672-98efc814fe29",
   "metadata": {},
   "outputs": [
    {
     "data": {
      "image/png": "[encoded data removed]",
      "text/plain": [
       "<Figure size 1000x600 with 1 Axes>"
      ]
     },
     "metadata": {},
     "output_type": "display_data"
    }
   ],
   "source": [
    "plt.figure(figsize=(10, 6))\n",
    "df.groupby('day_of_week')['revenue'].mean().plot(kind='bar')\n",
    "plt.title('Average Revenue by Day of Week')\n",
    "plt.ylabel('Revenue ($)')\n",
    "plt.tight_layout()\n",
    "plt.show()"
   ]
  },
  {
   "cell_type": "code",
   "execution_count": null,
   "id": "c0a1b843-92d9-438f-8ed5-0466eb2332fa",
   "metadata": {},
   "outputs": [],
   "source": []
  },
  {
   "cell_type": "code",
   "execution_count": null,
   "id": "3116a221-6a55-4498-b214-cf62b5484127",
   "metadata": {},
   "outputs": [],
   "source": []
  },
  {
   "cell_type": "code",
   "execution_count": null,
   "id": "80bd3b2f-d8b9-4d31-b142-049913b1f619",
   "metadata": {},
   "outputs": [],
   "source": []
  }
 ],
 "metadata": {
  "kernelspec": {
   "display_name": "Python 3 (ipykernel)",
   "language": "python",
   "name": "python3"
  },
  "language_info": {
   "codemirror_mode": {
    "name": "ipython",
    "version": 3
   },
   "file_extension": ".py",
   "mimetype": "text/x-python",
   "name": "python",
   "nbconvert_exporter": "python",
   "pygments_lexer": "ipython3",
   "version": "3.10.18"
  }
 },
 "nbformat": 4,
 "nbformat_minor": 5
}
