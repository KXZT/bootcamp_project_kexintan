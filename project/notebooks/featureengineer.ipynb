{
 "cells": [
  {
   "cell_type": "code",
   "execution_count": 2,
   "id": "cb914133-e7de-474a-9ebe-75e654c2c1ba",
   "metadata": {},
   "outputs": [
    {
     "name": "stdout",
     "output_type": "stream",
     "text": [
      "Successfully loaded data from ../data/raw/coffee_sales.csv\n",
      "Shape: (181, 7)\n"
     ]
    }
   ],
   "source": [
    "import pandas as pd\n",
    "import numpy as np\n",
    "import matplotlib.pyplot as plt\n",
    "import seaborn as sns\n",
    "import sys\n",
    "sys.path.append('../src')\n",
    "from utils import load_data, save_processed_data\n",
    "from cleaning import create_features, get_feature_names\n",
    "\n",
    "df = load_data()"
   ]
  },
  {
   "cell_type": "code",
   "execution_count": 3,
   "id": "6b288374-8e0d-4e29-a0cd-48f530093c87",
   "metadata": {},
   "outputs": [
    {
     "data": {
      "text/plain": [
       "['date',\n",
       " 'day_of_week',\n",
       " 'is_weekend',\n",
       " 'is_holiday',\n",
       " 'average_temperature',\n",
       " 'marketing_spend',\n",
       " 'revenue']"
      ]
     },
     "execution_count": 3,
     "metadata": {},
     "output_type": "execute_result"
    }
   ],
   "source": [
    "list(df.columns)"
   ]
  },
  {
   "cell_type": "code",
   "execution_count": 4,
   "id": "78a3976e-e6c4-4587-8d4d-423046414e5c",
   "metadata": {},
   "outputs": [],
   "source": [
    "df_featured = create_features(df)"
   ]
  },
  {
   "cell_type": "code",
   "execution_count": 5,
   "id": "dc1e6a95-e7a8-4c2a-96df-89d75640f0e4",
   "metadata": {},
   "outputs": [
    {
     "name": "stdout",
     "output_type": "stream",
     "text": [
      "['month', 'day_of_month', 'day_of_year', 'week_of_year', 'is_month_start', 'is_month_end', 'season', 'temp_category', 'marketing_efficiency', 'prev_day_revenue', 'revenue_3day_avg']\n"
     ]
    }
   ],
   "source": [
    "new_features = [col for col in df_featured.columns if col not in df.columns]\n",
    "print(new_features)"
   ]
  },
  {
   "cell_type": "code",
   "execution_count": 6,
   "id": "8787f2ee-5247-4578-8815-047cb97ed2cd",
   "metadata": {},
   "outputs": [
    {
     "name": "stdout",
     "output_type": "stream",
     "text": [
      "Data saved to ../data/processed/coffee_sales_featured.csv\n"
     ]
    }
   ],
   "source": [
    "save_processed_data(df_featured, 'coffee_sales_featured.csv')"
   ]
  },
  {
   "cell_type": "code",
   "execution_count": null,
   "id": "442f8fdd-325a-4c33-ad06-9e754f26368d",
   "metadata": {},
   "outputs": [],
   "source": []
  },
  {
   "cell_type": "code",
   "execution_count": null,
   "id": "6f758eba-4d1b-4eea-90ca-5dece9e03a04",
   "metadata": {},
   "outputs": [],
   "source": []
  },
  {
   "cell_type": "code",
   "execution_count": null,
   "id": "8d3f6784-e49f-404f-b61e-2dc0ef82eac1",
   "metadata": {},
   "outputs": [],
   "source": []
  },
  {
   "cell_type": "code",
   "execution_count": null,
   "id": "bf74f7ca-5187-4664-96c8-2073b395edcc",
   "metadata": {},
   "outputs": [],
   "source": []
  }
 ],
 "metadata": {
  "kernelspec": {
   "display_name": "Python 3 (ipykernel)",
   "language": "python",
   "name": "python3"
  },
  "language_info": {
   "codemirror_mode": {
    "name": "ipython",
    "version": 3
   },
   "file_extension": ".py",
   "mimetype": "text/x-python",
   "name": "python",
   "nbconvert_exporter": "python",
   "pygments_lexer": "ipython3",
   "version": "3.10.18"
  }
 },
 "nbformat": 4,
 "nbformat_minor": 5
}
